{
 "cells": [
  {
   "cell_type": "markdown",
   "id": "fe025a64",
   "metadata": {},
   "source": [
    "Source: [[src](https://www.deutsche-boerse.com/resource/blob/69642/6bbb6205e6651101288c2a0bfc668c45/data/high-frequency-trading_en.pdf)]\n",
    "These set of notes summarize the main ideas of the source above."
   ]
  },
  {
   "cell_type": "markdown",
   "id": "0cc74f43",
   "metadata": {},
   "source": [
    "**HFT**"
   ]
  }
 ],
 "metadata": {
  "language_info": {
   "name": "python"
  }
 },
 "nbformat": 4,
 "nbformat_minor": 5
}
