{
 "cells": [
  {
   "cell_type": "markdown",
   "id": "72a5287b",
   "metadata": {},
   "source": [
    "# Data serialization\n",
    "### Binary vs Text format\n",
    "Parquet and Pickle vs JSON and CSV \n",
    "\n",
    "\n",
    "### Row-major vs column-major\n",
    "CSV vs Parquet\n",
    "\n",
    "Pandas vs Numpy"
   ]
  },
  {
   "cell_type": "markdown",
   "id": "0132ce6b",
   "metadata": {},
   "source": [
    "# Data Models\n",
    "### Relational \n",
    "\n",
    "### NoSQL\n",
    "\n",
    "### Graph"
   ]
  }
 ],
 "metadata": {
  "language_info": {
   "name": "python"
  }
 },
 "nbformat": 4,
 "nbformat_minor": 5
}
