{
 "cells": [
  {
   "cell_type": "markdown",
   "id": "a485468c",
   "metadata": {},
   "source": [
    "## Basic knowledge\n",
    "### Types of security markets:\n",
    "- **Discrete markets/Batch systems**: Markets where orders are matched at discrete points in time in batches.\n",
    "    - a la criee: A system where orders can be revised up until execution\n",
    "    - par cassier: A system where orders can't be revised\n",
    "- **Continuous markets**: Markets where order matching can occur at any point in time. (Bilateral)\n",
    "    - Dealer Markets: Trades are matched to market-maker quotes.\n",
    "    - Matching Systems: No special market-makers exist.\n",
    "        - Order book systems: Orders are done through an orderbook, which is either open (publicly visible) or closed.\n",
    "        - Board trading: An orderbook where only the best bid and asks are published. Trade sizes are fixed in lots which makes matching trades easier.\n",
    "        - Crowd trading: A market where investors meet and discuss prices to execute orders bilaterally. Not common.\n",
    "### Order flow with brokers:\n",
    "- Dealer markets: Investor -> Broker -> Market Maker (Execution)\n",
    "- Matching system: Investors -> Brokers -> Match maker system (Execution)\n",
    "- Batch system: Investors -> Brokers -> Match maker system (Execution with delay)\n",
    "### Types of orders:\n",
    "- Market orders: Executed at any price (the best available price).\n",
    "- Limit orders: Executed at a price limit (max for a purchase and min for a sell). Generally lower in priority than matching two market orders.\n",
    "- Stop loss order: Sell orders that execute if price falls below a limit. \n",
    "### Trading priority\n",
    "- Price priority: Market orders are executed first followed by limit orders in order of best price. This is a primary priority rule.\n",
    "- Common secondary rules:\n",
    "    - Time priority: Orders submitted first are executed first (a queue).\n",
    "    - Size priority: Larger orders are executed first (a priority queue).\n",
    "    - Pro-rata partial execution: Incoming orders are split proportionally across all limit orders resting in an orderbook according to their order size.\n",
    "    - Random selection: Distributes the order randomly across all limit orders resting in an orderbook. Typically paired with pro-rata to deal with the fractional shares that aren't executed due to rounding issues."
   ]
  },
  {
   "cell_type": "markdown",
   "id": "c6979f39",
   "metadata": {},
   "source": [
    "## Mathematics models\n",
    "\n",
    "### Auction markets\n",
    "Auction market models look at prices not on a trade-by-trade basis but instead aggregated over a period of time. These models help look at short-term variations in price and trading volume.\n",
    "\n",
    "Basic model: \n",
    "- Assume that after T trading rounds by informed and uninformed investors, the asset is liquidated. - Informed investors receive a signal of the liquidation value of the asset while uninformed investors do not. \n",
    "- Every round investors are able to submit orders to the exchange/match maker\n",
    "- The match making algorithm executes trades at a single price equal to the expected liquidation value given the order imbalance.\n",
    "\n",
    "#### Single informed investor\n",
    "Setup:\n",
    "- Suppose there are N uninformed traders and 1 informed trader. The informed trader knows the liquidation value $v$, while the uninformed see a random variable $\\tilde{v} \\sim N(p_0,\\Sigma_0)$\n",
    "- Uninformed traders trade with order sizes $\\tilde{u}_i \\sim N(0,\\sigma_{u_i}^2)$, forming total order flow $\\sum{\\tilde{u}_i}=\\tilde{u} \\sim N(0,\\sigma_u^2)$. The informed trader trades with order size $\\tilde{x}$. \n",
    "- The match making algorithm sees total order flow $\\tilde{u} + \\tilde{x}$. This leads to the price $\\tilde{p}=\\mathbb{E}[\\tilde{v}|u+x]$\n",
    "\n",
    "Behaviour of the informed trader:\n",
    "- The informed trader aims to maximize expected profits, $\\tilde{\\pi}=(\\tilde{v}-\\tilde{p})\\tilde{x}$. \n",
    "- \n",
    "\n",
    "#### \n",
    "\n",
    "\n"
   ]
  },
  {
   "cell_type": "markdown",
   "id": "078e3217",
   "metadata": {},
   "source": []
  }
 ],
 "metadata": {
  "language_info": {
   "name": "python"
  }
 },
 "nbformat": 4,
 "nbformat_minor": 5
}
