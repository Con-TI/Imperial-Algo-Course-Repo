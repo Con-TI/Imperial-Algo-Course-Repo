{
 "cells": [
  {
   "cell_type": "markdown",
   "id": "2ff27374",
   "metadata": {},
   "source": [
    "# Basic Probability concepts\n",
    "\n",
    "### Axioms, Basic theorems\n",
    "\n",
    "### Expectation\n",
    "\n",
    "### Variance\n",
    "\n",
    "### Conditional Probability\n",
    "\n",
    "### Bayes\n",
    "\n",
    "### Limiting probability, distribution, etc.\n",
    "\n",
    "### Common distributions\n",
    "\n",
    "### Vector/Matrices extensions and definitions"
   ]
  },
  {
   "cell_type": "markdown",
   "id": "60895c90",
   "metadata": {},
   "source": [
    "# Important Inequalities\n",
    "\n",
    "\n",
    "### Convexity and Concavity based inequalities"
   ]
  },
  {
   "cell_type": "markdown",
   "id": "6b0e9d6c",
   "metadata": {},
   "source": [
    "# Concepts in Random walks\n",
    "\n",
    "### Markov Property\n",
    "\n",
    "### Martingales\n",
    "\n",
    "### Stopping time and the Optional Stopping Theorem\n",
    "\n",
    "### Mean reverting walks\n",
    "\n",
    "### Random walk on a graph\n"
   ]
  },
  {
   "cell_type": "markdown",
   "id": "1fe8aa1f",
   "metadata": {},
   "source": [
    "# Markov chains\n",
    "\n",
    "### Absorbing, transient, etc. states\n",
    "\n",
    "### Hitting Probability\n",
    "\n",
    "### Hitting time\n"
   ]
  }
 ],
 "metadata": {
  "language_info": {
   "name": "python"
  }
 },
 "nbformat": 4,
 "nbformat_minor": 5
}
