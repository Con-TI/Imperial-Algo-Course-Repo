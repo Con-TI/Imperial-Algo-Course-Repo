{
 "cells": [
  {
   "cell_type": "markdown",
   "id": "406c333c",
   "metadata": {},
   "source": [
    "# Hypothesis Testing\n",
    "Null hypothesis \n",
    "\n",
    "Alternative hypothesis\n",
    "\n",
    "test statistic\n",
    "\n",
    "p value\n",
    "\n",
    "Type 1 error\n",
    "\n",
    "Type 2 error\n",
    "\n",
    "power of a test\n",
    "\n",
    "Multiple hypothesis testing\n",
    "\n",
    "Corrections for multiple hypothesis testing\n",
    "- Bonferroni correction\n",
    "- Holm Bonferroni correction\n",
    "\n",
    "Likelihood ratios\n",
    "\n",
    "Bootstrapping\n",
    "\n",
    "Confidence intervals"
   ]
  },
  {
   "cell_type": "markdown",
   "id": "436baaf4",
   "metadata": {},
   "source": [
    "# Estimators\n",
    "Estimators\n",
    "\n",
    "Bias\n",
    "\n",
    "Standard error and Variance\n",
    "\n",
    "MSE\n",
    "\n",
    "Maximum likelihood estimators\n",
    "\n",
    "Cramer lower bound\n",
    "\n",
    "Fisher information"
   ]
  }
 ],
 "metadata": {
  "language_info": {
   "name": "python"
  }
 },
 "nbformat": 4,
 "nbformat_minor": 5
}
