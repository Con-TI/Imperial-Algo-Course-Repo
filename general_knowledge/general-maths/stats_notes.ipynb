{
 "cells": [
  {
   "cell_type": "markdown",
   "id": "406c333c",
   "metadata": {},
   "source": [
    "## Hypothesis Testing\n",
    "\n",
    "## Bootstrapping\n",
    "\n",
    "## Maximum Likelihood Estimation\n",
    "\n",
    "## OLS Regression\n",
    "\n",
    "## Regularization\n",
    "\n",
    "## Bayesian Inference\n",
    "\n",
    "## Time Series Analysis"
   ]
  },
  {
   "cell_type": "markdown",
   "id": "6c02836b",
   "metadata": {},
   "source": []
  }
 ],
 "metadata": {
  "language_info": {
   "name": "python"
  }
 },
 "nbformat": 4,
 "nbformat_minor": 5
}
