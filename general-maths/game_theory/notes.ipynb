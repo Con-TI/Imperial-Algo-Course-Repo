{
 "cells": [
  {
   "cell_type": "markdown",
   "id": "0e25173f",
   "metadata": {},
   "source": [
    "### Types of Games\n",
    "\n",
    "*Zero-sum/constant-sum games* are games where the total benefit goes to all players in a game (i.e. players benefit only at the equal expense of others). Vice versa for *non-constant-sum games*.\n",
    "\n",
    "*Symmetric games* are games where the payoff the players earn is the same when making the same choice (so the identity of the player does not matter). Vice versa for *asymmetric games*.\n",
    "\n",
    "*Cooperative games* are games where groups of players may enforce binding agreements. The utility function $v:2^N\\rightarrow\\mathbb{R}$, where $N$ is the number of players, maps from the set of possible coalitions/groups rather than strategy profiles. *Non cooperative games* are games that solely look at individual strategies of the players without binding agreements. These have utility functions for each player, mapping strategy profiles to the reals. The former is like a high-level perspective of a game while the latter a detailed look.\n",
    "\n",
    "### Nash equilibrium\n",
    "\n",
    "A **nash equilibrium** in game theory occurs when no player in a game can improve their utility/outcome, $u$, by (unilaterally) changing their strategy $s$, assuming other players' strategies remain constant. (Put simply, a strategy is a choice to take action $a_i\\in A_i$, where $A_i$ is the action space for player $i$).\n",
    "\n",
    "Formally, consider $S_i$ the set of all possible strategies for player $i$. Let $s^*=(s_i^*,s_{-i}^*)$ be a set consisting of a strategy for each player, with $s_{-i}^*$ denoting the strategy of every player except $i$. $s^*$ is a nash equilibrium if $\\forall i$:\n",
    "\\begin{equation}\n",
    "u_i(s_i^*,s_{-i}^*)\\geq u_i(s_i,s_{-i}^*), \\forall s_i \\in S_i\n",
    "\\end{equation}\n",
    "\n",
    "A *weak* equilibrium occurs when there exists multiple $s_i$ satisfying the above. A *strict/unique/strong* equilibrium occurs when the inequality is strict above.\n",
    "\n",
    "A *pure* strategy nash equilibrium occurs when players choose a single strategy. A *mixed* strategy nash equilibrium occurs when every player has a probability distribution over different strategies."
   ]
  },
  {
   "cell_type": "markdown",
   "id": "8c71d1ec",
   "metadata": {},
   "source": [
    "### Bayesian Games\n"
   ]
  },
  {
   "cell_type": "markdown",
   "id": "21fdb664",
   "metadata": {},
   "source": [
    "### Differential Games"
   ]
  },
  {
   "cell_type": "markdown",
   "id": "077acd13",
   "metadata": {},
   "source": []
  }
 ],
 "metadata": {
  "language_info": {
   "name": "python"
  }
 },
 "nbformat": 4,
 "nbformat_minor": 5
}
