{
 "cells": [
  {
   "cell_type": "markdown",
   "id": "377e5263",
   "metadata": {},
   "source": [
    "## Diffusion and Jump Processes\n",
    "\n",
    "## Stochastic Optimal Control\n",
    "\n",
    "## Avandella Stoikov\n",
    "\n",
    "## Options market-making model"
   ]
  }
 ],
 "metadata": {
  "language_info": {
   "name": "python"
  }
 },
 "nbformat": 4,
 "nbformat_minor": 5
}
