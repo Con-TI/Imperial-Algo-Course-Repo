{
 "cells": [
  {
   "cell_type": "markdown",
   "id": "7e000b53",
   "metadata": {},
   "source": [
    "# Basic market-microstructure models"
   ]
  },
  {
   "cell_type": "markdown",
   "id": "377e5263",
   "metadata": {},
   "source": [
    "# Diffusion and Jump Processes\n"
   ]
  },
  {
   "cell_type": "markdown",
   "id": "2b0f908d",
   "metadata": {},
   "source": [
    "# Stochastic Optimal Control\n",
    "### Defining a stochastic optimal control problem\n",
    "\n",
    "### The Hamilton Jacobi Bellman equation"
   ]
  },
  {
   "cell_type": "markdown",
   "id": "7962fd83",
   "metadata": {},
   "source": [
    "# Avandella Stoikov\n"
   ]
  },
  {
   "cell_type": "markdown",
   "id": "bb09df49",
   "metadata": {},
   "source": [
    "# Options market-making model\n"
   ]
  },
  {
   "cell_type": "markdown",
   "id": "200e1633",
   "metadata": {},
   "source": [
    "# ETF market-making model\n"
   ]
  }
 ],
 "metadata": {
  "language_info": {
   "name": "python"
  }
 },
 "nbformat": 4,
 "nbformat_minor": 5
}
