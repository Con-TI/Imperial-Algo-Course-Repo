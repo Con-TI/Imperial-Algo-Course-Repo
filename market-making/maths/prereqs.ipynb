{
 "cells": [
  {
   "cell_type": "markdown",
   "id": "377e5263",
   "metadata": {},
   "source": [
    "# Jump Processes [[src](https://personal.ntu.edu.sg/nprivault/MA5182/stochastic-calculus-jump-processes.pdf)]\n",
    "A **jump process** $N_t$ is stochastic process whose path is characterized by discrete jumps/changes in value at random interarrival times. Their SDEs produce non-continuous paths as a result of the jumps\n",
    "\n",
    "### Poisson Process\n",
    "The **Poisson process** is a jump process driven by exponentially distributed interarrival times. It counts the total number of jumps that have occured up until time $t$ and follows the poisson distribution with rate parameter $\\lambda t$ where $\\lambda$ is the parameter of the underlying exponential distribution. One important property of the poisson process is that it has independent stationary increments: the number of jumps from time $t$ to $t+s$ is not dependent on the jumps up till time $t$ and it is identically distributed when considering any interval $[t,t+s]$.\n",
    "\n",
    "The **index of dispersion** of the poisson process (the ratio of variance to mean) is 1. This is relevant in determining whether observed data can be modelled using a poisson process.\n",
    "\n",
    "### Compensated Poisson Process\n",
    "\n",
    "### Compound Poisson Process\n",
    "A **compound poisson process** is given by the following:\n",
    "\\begin{equation*}\n",
    "Q_t = \\sum_{i=1}^{N_t}D_i\n",
    "\\end{equation*}\n",
    "where $N_t$ is a poisson process with rate parameter $\\lambda$ and $D_i$ iid random vairables with some arbitrary distribution.\n",
    "\n",
    "### Compensated Compound Poisson Process\n",
    "\n",
    "### Jump diffusion, Stochastic integrals and Ito's formula with jumps\n",
    "\n",
    "### More on SDEs with jumps\n",
    "\n",
    "### Some well known jump SDEs in finance\n"
   ]
  },
  {
   "cell_type": "markdown",
   "id": "2b0f908d",
   "metadata": {},
   "source": [
    "# Stochastic Optimal Control\n",
    "### Defining a stochastic optimal control problem\n",
    "\n",
    "### The Hamilton Jacobi Bellman equation"
   ]
  },
  {
   "cell_type": "markdown",
   "id": "7e000b53",
   "metadata": {},
   "source": [
    "# Market Impact"
   ]
  },
  {
   "cell_type": "markdown",
   "id": "7962fd83",
   "metadata": {},
   "source": [
    "# Foundational Model: Avandella Stoikov[[src](https://www.maths.ox.ac.uk/system/files/media/slides%20-%20london.pdf)[src](https://arxiv.org/pdf/1105.3115)]\n",
    "### Mid-price process:\n",
    "\\begin{array}{rl}\n",
    "dS_t=\\sigma dW_t\n",
    "S_t^b = S_t-\\delta_t^b\n",
    "S_t^a = S_t+\\delta_t^a\n",
    "\\end{array}\n",
    "\n",
    "### Inventory process\n",
    "\\begin{equation*}\n",
    "dq_t = zdN_t^b-zdN_t^a\n",
    "\\end{equation*}\n",
    "\n",
    "### Poisson intensity functions:\n",
    "\\begin{array}{rl}\n",
    "\\lambda_t^b = \\Lambda^b(\\delta_t^b)\n",
    "\\lambda_t^a = \\Lambda^a(\\delta_t^a)\n",
    "\\Lambda^a(\\delta)=\\Lambda^b(\\delta)=Ae^{-k\\delta}\n",
    "\\end{array}\n",
    "\n",
    "### Portfolio/Cash process:\n",
    "\\begin{equation*}\n",
    "d\\Pi_t=zS_t^adN_t^a-zS_t^bdN_t^b=-S_tdq_t+\\delta_t^azdN_t^a+\\delta_t^bzdN_t^b\n",
    "\\end{equation*}\n",
    "\n",
    "### Objective function:\n",
    "\\begin{equation*}\n",
    "\\sup_{\\delta_t^a,\\delta_t^b}\\mathbb{E}[-e^{-\\gamma(X_T+q_TS_T)}]\n",
    "\\end{equation*}\n",
    "\n",
    "### HJB problem:\n",
    "\\begin{array}{rl}\n",
    "0 &= \\displaystyle \\frac{\\partial}{\\partial t}u(t,x,q,S) + \\frac{1}{2}\\sigma^2\\frac{\\partial^2}{\\partial S^2}u(t,x,q,S) \\\\\\\\\n",
    "&+ \\displaystyle \\sup_{\\delta^b}\\Lambda^b(\\delta^b)[u(t,x-zS+z\\delta^b,q+z,S)-u(t,x,q,S)] \\\\\\\\\n",
    "&+ \\displaystyle \\sup_{\\delta^a}\\Lambda^a(\\delta^a)[u(t,x+zS+z\\delta^a,q-z,S)-u(t,x,q,S)] \\\\\\\\\n",
    "u(T,x,q,S) &= -e^{-\\gamma(x+qS)}\n",
    "\\end{array}\n",
    "\n",
    "### Change of variables\n",
    "\n",
    "### Solution (Optimal quote distances):\n",
    "\\begin{array}{rl}\n",
    "\\delta^b(t,q)&=\\displaystyle\\frac{1}{k}\\log(\\frac{v_q(t)}{v_q+1(t)})+\\frac{1}{\\gamma}\\log(1+\\frac{\\gamma}{k}) \\\\\\\\\n",
    "\\delta^a(t,q)&=\\displaystyle\\frac{1}{k}\\log(\\frac{v_q(t)}{v_q-1(t)})+\\frac{1}{\\gamma}\\log(1+\\frac{\\gamma}{k})\n",
    "\\end{array}\n",
    "\n"
   ]
  },
  {
   "cell_type": "markdown",
   "id": "f617328a",
   "metadata": {},
   "source": [
    "# Market Making with Limit Orders"
   ]
  },
  {
   "cell_type": "markdown",
   "id": "4f380a14",
   "metadata": {},
   "source": [
    "# An Example Multi-Factor model [[src](https://papers.ssrn.com/sol3/papers.cfm?abstract_id=1964781)]"
   ]
  },
  {
   "cell_type": "markdown",
   "id": "bb09df49",
   "metadata": {},
   "source": [
    "# Options market-making model\n",
    "Price dynamics:\n",
    "dS_t = rS_tdt + \\sqrt{\\nu_t}S_t dW_t^S\n",
    "d{\\nu_t} = a(t,\\nu_t)dt + \\xi\\sqrt{\\nu_t}dW_t^{\\nu}\n",
    "\n",
    "Inventory process:\n",
    "\n",
    "Portfolio/Cash process:\n",
    "\n",
    "Mark to market process:\n",
    "\n",
    "Objective function:\n",
    "\n",
    "HJB problem:\n",
    "\n",
    "### Delta hedging:\n"
   ]
  },
  {
   "cell_type": "markdown",
   "id": "200e1633",
   "metadata": {},
   "source": [
    "# ETF market-making model\n"
   ]
  },
  {
   "cell_type": "markdown",
   "id": "1d363ec0",
   "metadata": {},
   "source": [
    "# Extensions\n",
    "#### Rebate farming [[src](https://arxiv.org/pdf/2501.12591)]\n",
    "\n",
    "#### Numerical analysis\n",
    "\n",
    "#### Dimensionality reduction techniques\n",
    "\n",
    "#### Deep reinforcement learning"
   ]
  }
 ],
 "metadata": {
  "language_info": {
   "name": "python"
  }
 },
 "nbformat": 4,
 "nbformat_minor": 5
}
