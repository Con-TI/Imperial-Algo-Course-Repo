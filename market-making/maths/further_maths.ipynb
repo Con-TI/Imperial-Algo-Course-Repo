{
 "cells": [
  {
   "cell_type": "markdown",
   "id": "8f0090c9",
   "metadata": {},
   "source": [
    "# From markov-chains to continuous time-markov chains to SDEs [[src](https://www.statslab.cam.ac.uk/~grg/teaching/cts-time-MC-2019.pdf)]\n",
    "\n",
    "### Markov chains to CTMC\n",
    "\n",
    "\n",
    "### The generating matrix for CTMC\n",
    "\n",
    "\n",
    "### The integro differential operator on stochastic processes\n",
    "\n"
   ]
  },
  {
   "cell_type": "markdown",
   "id": "c3d61659",
   "metadata": {},
   "source": [
    "# More on stochastic optimal control\n",
    "\n",
    "### Skipping the limit definition of DPP: HJB defined in terms of the integro differential operator\n",
    "\n",
    "\n",
    "### Relationship with our initial/prior interpretation under prereqs\n",
    "\n",
    "\n",
    "### BSDEs\n",
    "\n",
    "\n",
    "### Fokker Planck\n",
    "\n"
   ]
  },
  {
   "cell_type": "markdown",
   "id": "4d3e94a0",
   "metadata": {},
   "source": [
    "# Multi-asset market making [[src](https://arxiv.org/pdf/1810.04383)]"
   ]
  },
  {
   "cell_type": "markdown",
   "id": "66e5b73c",
   "metadata": {},
   "source": [
    "# Market making for options [[src](https://arxiv.org/pdf/1907.12433)]"
   ]
  },
  {
   "cell_type": "markdown",
   "id": "d5efb80c",
   "metadata": {},
   "source": [
    "# Market making with order flow imbalance [[src](https://papers.ssrn.com/sol3/papers.cfm?abstract_id=2668277)]\n",
    "\n",
    "The motivation behind the source paper is that without predictive signals, models just loses money from adverse selection.\n",
    "\n",
    "### Volume imbalance signal\n",
    "Let V_t^b and V_t^a denote the quantities of limit orders of the best bids and asks posted (submitted) at time t. The volume imbalance signal $\\rho_t$ is defined by:\n",
    "\\begin{equation}\n",
    "    \\rho_t = \\frac{V_t^b-V_t^a}{V_t^b+V_t^a} \\in [-1,1]\n",
    "\\end{equation}\n",
    "The close $\\rho_t$ is to $-1$, the greater the selling pressure and vice versa for $1$.\n",
    "\n",
    "### State process\n",
    "Z_t = \n",
    "\n",
    "M_t^{\\pm} = \\int_0^t\\int_{y\\in\\mathbb{R}^3}\\mu^{\\pm}(dy,du) \\text{ (Total market orders process)}\n",
    "\n",
    "M_t^l = \\int_0^t\\int_{y\\in\\mathbb{R}^3}\\mu^{l}(dy,du) \\text{ (Limit orders placement or cancellation that cause change process)}\n",
    "\n",
    "S_t = S_0 + \\int_0^t\\int_{y\\in\\mathbb{R}^3}y_1(\\mu^l+\\mu^+-\\mu^-)(dy,du) \\text{ (Mid price process)}\n",
    "\n",
    "\n",
    "\\text{ (Spread process)}\n",
    "\n",
    "### Defining the HJB\n",
    "\n",
    "\n",
    "### Some proof-writing: Guaranteeing solvability and uniqueness\n",
    "\n",
    "\n",
    "### Numerical approach to the HJB\n",
    "\n",
    "\n"
   ]
  },
  {
   "cell_type": "markdown",
   "id": "7e8195a4",
   "metadata": {},
   "source": [
    "# Market making with hawkes driven orders [[src](https://oxford-man.ox.ac.uk/wp-content/uploads/2020/05/Algorithmic-Trading-Stochastic-Control-and-Mutually-Exciting-Processes.pdf)]"
   ]
  },
  {
   "cell_type": "markdown",
   "id": "34011702",
   "metadata": {},
   "source": [
    "# Market making with built in uncertainty [[src](https://papers.ssrn.com/sol3/papers.cfm?abstract_id=2310645)]"
   ]
  }
 ],
 "metadata": {
  "language_info": {
   "name": "python"
  }
 },
 "nbformat": 4,
 "nbformat_minor": 5
}
