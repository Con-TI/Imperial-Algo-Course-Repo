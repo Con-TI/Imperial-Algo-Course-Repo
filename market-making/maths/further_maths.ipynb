{
 "cells": [
  {
   "cell_type": "markdown",
   "id": "8f0090c9",
   "metadata": {},
   "source": [
    "# From markov-chains to continuous time-markov chains to SDEs [[src](https://www.statslab.cam.ac.uk/~grg/teaching/cts-time-MC-2019.pdf)]\n",
    "\n",
    "### Markov chains to CTMC\n",
    "\n",
    "\n",
    "### The generating matrix for CTMC\n",
    "\n",
    "\n",
    "### The integro differential operator on stochastic processes\n",
    "\n"
   ]
  },
  {
   "cell_type": "markdown",
   "id": "c3d61659",
   "metadata": {},
   "source": [
    "# More on stochastic optimal control\n",
    "### The HJB in terms of the integro differential operator\n",
    "\n",
    "\n",
    "### Relationship with our initial/prior interpretation under prereqs\n",
    "\n",
    "\n",
    "### BSDEs\n",
    "\n",
    "\n",
    "### Fokker Planck\n",
    "\n"
   ]
  }
 ],
 "metadata": {
  "language_info": {
   "name": "python"
  }
 },
 "nbformat": 4,
 "nbformat_minor": 5
}
