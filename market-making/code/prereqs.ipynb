{
 "cells": [
  {
   "cell_type": "markdown",
   "id": "37b4741d",
   "metadata": {},
   "source": [
    "# Numerical methods for approximating HJB equations\n",
    "\n",
    "### Finite differences\n",
    "\n",
    "### Reinforcement learning"
   ]
  },
  {
   "cell_type": "markdown",
   "id": "3364c195",
   "metadata": {},
   "source": [
    "# Parameter estimation methods\n",
    "### Maximum likelihood estimation\n",
    "\n",
    "### Bayesian methods"
   ]
  }
 ],
 "metadata": {
  "language_info": {
   "name": "python"
  }
 },
 "nbformat": 4,
 "nbformat_minor": 5
}
