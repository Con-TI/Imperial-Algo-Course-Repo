{
 "cells": [
  {
   "cell_type": "markdown",
   "id": "37b4741d",
   "metadata": {},
   "source": [
    "# Method of finite differences\n",
    "\n",
    "### Basic definition and necessary conditions \n",
    "\n",
    "### Implementation for solving HJBs examples\n"
   ]
  },
  {
   "cell_type": "markdown",
   "id": "3364c195",
   "metadata": {},
   "source": [
    "# Parameter estimation methods\n",
    "### Maximum likelihood estimation\n",
    "\n",
    "### Bayesian methods"
   ]
  }
 ],
 "metadata": {
  "language_info": {
   "name": "python"
  }
 },
 "nbformat": 4,
 "nbformat_minor": 5
}
