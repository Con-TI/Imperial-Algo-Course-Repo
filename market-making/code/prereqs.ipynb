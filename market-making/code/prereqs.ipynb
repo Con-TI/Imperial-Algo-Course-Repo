{
 "cells": [
  {
   "cell_type": "markdown",
   "id": "37b4741d",
   "metadata": {},
   "source": [
    "# Numerical methods for approximating HJB equations"
   ]
  },
  {
   "cell_type": "markdown",
   "id": "a186e10e",
   "metadata": {},
   "source": [
    "# Kalman Filters and Bayesian inference"
   ]
  }
 ],
 "metadata": {
  "language_info": {
   "name": "python"
  }
 },
 "nbformat": 4,
 "nbformat_minor": 5
}
