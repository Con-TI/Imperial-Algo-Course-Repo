{
 "cells": [
  {
   "cell_type": "markdown",
   "id": "3364c195",
   "metadata": {},
   "source": [
    "# Maximum likelihood estimation"
   ]
  },
  {
   "cell_type": "markdown",
   "id": "37b4741d",
   "metadata": {},
   "source": [
    "# Numerical methods for approximating HJB equations\n",
    "\n",
    "### Reinforcement learning"
   ]
  },
  {
   "cell_type": "markdown",
   "id": "a186e10e",
   "metadata": {},
   "source": [
    "# Bayesian estimation methods\n",
    "### Kalman filter\n",
    "### "
   ]
  }
 ],
 "metadata": {
  "language_info": {
   "name": "python"
  }
 },
 "nbformat": 4,
 "nbformat_minor": 5
}
