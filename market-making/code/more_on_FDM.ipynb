{
 "cells": [
  {
   "cell_type": "markdown",
   "id": "d0902777",
   "metadata": {},
   "source": [
    "# Dealing with the curse of dimensionality via FDM\n",
    "### Sparse grid methods for higher dimensional problems\n",
    "\n",
    "### Semi-Lagrangian schemes\n"
   ]
  },
  {
   "cell_type": "markdown",
   "id": "a2d1e75a",
   "metadata": {},
   "source": [
    "# Reinforcement learning\n",
    "\n",
    "### A primer on Markov Decision Processes\n",
    "\n",
    "### Translating a HJB into a MDP problem and applying RL\n"
   ]
  },
  {
   "cell_type": "markdown",
   "id": "73dbcda9",
   "metadata": {},
   "source": [
    "# Monte carlo regression"
   ]
  }
 ],
 "metadata": {
  "language_info": {
   "name": "python"
  }
 },
 "nbformat": 4,
 "nbformat_minor": 5
}
