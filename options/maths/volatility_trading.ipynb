{
 "cells": [
  {
   "cell_type": "markdown",
   "id": "52728dd9",
   "metadata": {},
   "source": [
    "# Replicating portfolio for volatility"
   ]
  }
 ],
 "metadata": {
  "language_info": {
   "name": "python"
  }
 },
 "nbformat": 4,
 "nbformat_minor": 5
}
