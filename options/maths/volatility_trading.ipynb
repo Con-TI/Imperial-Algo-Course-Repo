{
 "cells": [
  {
   "cell_type": "markdown",
   "id": "68f468d8",
   "metadata": {},
   "source": [
    "# Primer on volatility\n",
    "### Definition\n",
    "The volatility of an asset is defined as the standard deviation of its past returns, typically for 252 days as this corresponds to the trading days in a year.\n",
    "\n",
    "### Defining and replicating the VIX\n",
    "\n",
    "\n",
    "### Empirical trends of volatility"
   ]
  },
  {
   "cell_type": "markdown",
   "id": "757ce0bc",
   "metadata": {},
   "source": [
    "# Deep dive into ARCH and GARCH models"
   ]
  },
  {
   "cell_type": "markdown",
   "id": "52728dd9",
   "metadata": {},
   "source": [
    "# Deep dive into the Heston Model\n",
    "\n",
    "### Fourier transforms\n",
    "\n",
    "### Discounting term\n",
    "\n",
    "### Pricing a call option under the Heston Model"
   ]
  }
 ],
 "metadata": {
  "language_info": {
   "name": "python"
  }
 },
 "nbformat": 4,
 "nbformat_minor": 5
}
