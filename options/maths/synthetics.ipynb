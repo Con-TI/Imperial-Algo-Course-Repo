{
 "cells": [
  {
   "cell_type": "markdown",
   "id": "69680718",
   "metadata": {},
   "source": [
    "# Synthetic positions\n",
    "\n",
    "### Definition\n",
    "\n",
    "### Conversions and reversals"
   ]
  }
 ],
 "metadata": {
  "language_info": {
   "name": "python"
  }
 },
 "nbformat": 4,
 "nbformat_minor": 5
}
