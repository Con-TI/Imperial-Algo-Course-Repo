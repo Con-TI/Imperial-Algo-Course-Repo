{
 "cells": [
  {
   "cell_type": "markdown",
   "id": "7d74cd36",
   "metadata": {},
   "source": [
    "# Basics\n"
   ]
  },
  {
   "cell_type": "markdown",
   "id": "acd274b7",
   "metadata": {},
   "source": [
    "# Vol spreads\n"
   ]
  },
  {
   "cell_type": "markdown",
   "id": "6ddda979",
   "metadata": {},
   "source": [
    "# Bull bear spreads"
   ]
  }
 ],
 "metadata": {
  "language_info": {
   "name": "python"
  }
 },
 "nbformat": 4,
 "nbformat_minor": 5
}
