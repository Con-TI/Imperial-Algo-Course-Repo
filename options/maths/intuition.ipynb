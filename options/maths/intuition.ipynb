{
 "cells": [
  {
   "cell_type": "markdown",
   "id": "3b0c3eab",
   "metadata": {},
   "source": [
    "# Options and how various aspects impact valuation\n",
    "### Definition\n",
    "\n",
    "\n",
    "### The idea behind premiums: time + intrinsic value definition and EV interpretation\n",
    "\n",
    "\n",
    "### American Optionality\n",
    "\n",
    "\n",
    "### Carrying costs and dividends with comparison between futures and stocks\n",
    "\n",
    "\n",
    "### How interest rates roughly affect options\n",
    "\n",
    "\n",
    "### Lognormality of stock prices and its impact on prices\n",
    "\n",
    "\n",
    "### Interest rate options and reversing prices\n",
    "\n"
   ]
  },
  {
   "cell_type": "markdown",
   "id": "135a50ee",
   "metadata": {},
   "source": [
    "# Volatility\n",
    "### Future, Historical, Forecast and Implied vols\n",
    "\n",
    "### Seasonal vols"
   ]
  },
  {
   "cell_type": "markdown",
   "id": "a3b82e5a",
   "metadata": {},
   "source": [
    "# Greeks\n",
    "### Delta and the hedging ratio\n",
    "\n",
    "\n",
    "### Dividends and their relation to delta\n",
    "\n",
    "\n",
    "### Delta, Elasticity and leverage value\n",
    "\n",
    "\n",
    "### Gamma and curvature and risk limits\n",
    "\n",
    "\n",
    "### Theta time decay and gamma relationship\n",
    "\n",
    "\n",
    "### Vega (i.e. Kappa) and impact on OTM, ITM and ATM\n",
    "\n"
   ]
  },
  {
   "cell_type": "markdown",
   "id": "7066aecf",
   "metadata": {},
   "source": [
    "# Practical considerations\n",
    "\n",
    "### Dynamic hedging: Up-tick rule, transaction costs"
   ]
  }
 ],
 "metadata": {
  "language_info": {
   "name": "python"
  }
 },
 "nbformat": 4,
 "nbformat_minor": 5
}
