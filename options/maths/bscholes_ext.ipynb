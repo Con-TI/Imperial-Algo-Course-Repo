{
 "cells": [
  {
   "cell_type": "markdown",
   "id": "b670541c",
   "metadata": {},
   "source": [
    "# Garman–Kohlhagen model"
   ]
  },
  {
   "cell_type": "markdown",
   "id": "212ced91",
   "metadata": {},
   "source": [
    "# Commodities model"
   ]
  },
  {
   "cell_type": "markdown",
   "id": "f1225fa0",
   "metadata": {},
   "source": [
    "# Merton jump diffusion"
   ]
  },
  {
   "cell_type": "markdown",
   "id": "9da173e2",
   "metadata": {},
   "source": [
    "# Kou’s double exponential jump-diffusion"
   ]
  }
 ],
 "metadata": {
  "language_info": {
   "name": "python"
  }
 },
 "nbformat": 4,
 "nbformat_minor": 5
}
