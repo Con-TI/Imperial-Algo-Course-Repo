{
 "cells": [
  {
   "cell_type": "markdown",
   "id": "35ef51eb",
   "metadata": {},
   "source": [
    "# Random number generation\n",
    "### From independent Uniform to independent Normal (Box Muller Transform)\n",
    "\n",
    "### From independent Normal to independent Uniform \n",
    "\n",
    "### Simulating correlated normal variables\n"
   ]
  },
  {
   "cell_type": "markdown",
   "id": "aa56d867",
   "metadata": {},
   "source": [
    "# Numerical Analysis\n",
    "### Newton-Raphson's method\n",
    "### Bisect method\n",
    "### Implied volatility example"
   ]
  },
  {
   "cell_type": "markdown",
   "id": "b1aaa12c",
   "metadata": {},
   "source": [
    "# Monte carlo methods\n",
    "### Definition and basics\n",
    "\n",
    "### Control variates\n",
    "\n",
    "### Error estimation"
   ]
  },
  {
   "cell_type": "markdown",
   "id": "29907c1a",
   "metadata": {},
   "source": [
    "# Finite Differences with monte carlo\n",
    "\n",
    "### Approximating the partial derivatives\n",
    "\n",
    "### Example: Calculating the greeks\n",
    "\n",
    "### Explicit difference (Forward Euler)\n",
    "\n",
    "### Implicit difference (Backward Euler)\n",
    "\n",
    "### Crank-Nicholson's method\n",
    "\n",
    "### Options pricing example"
   ]
  }
 ],
 "metadata": {
  "language_info": {
   "name": "python"
  }
 },
 "nbformat": 4,
 "nbformat_minor": 5
}
