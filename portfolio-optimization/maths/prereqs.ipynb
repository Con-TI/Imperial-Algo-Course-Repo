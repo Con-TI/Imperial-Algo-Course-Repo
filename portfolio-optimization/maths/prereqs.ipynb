{
 "cells": [
  {
   "cell_type": "markdown",
   "id": "62496182",
   "metadata": {},
   "source": [
    "## Convex Optimization\n",
    "\n",
    "## Quadratic Solvers\n",
    "\n",
    "## Lagrange Multipliers\n",
    "\n",
    "## Pareto Frontier\n",
    "\n",
    "## Mean/Variance Markowitz Model\n",
    "\n",
    "## Black Litterman Model\n",
    "\n",
    "## Hierarchical Risk\n",
    "\n",
    "## Graph methods\n",
    "\n",
    "## VaR\n",
    "\n",
    "## Expected Shorfall\n",
    "\n",
    "## ML"
   ]
  }
 ],
 "metadata": {
  "language_info": {
   "name": "python"
  }
 },
 "nbformat": 4,
 "nbformat_minor": 5
}
