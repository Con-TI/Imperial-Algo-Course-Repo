{
 "cells": [
  {
   "cell_type": "markdown",
   "id": "971624cf",
   "metadata": {},
   "source": [
    "## Hierarchical Risk\n",
    "\n",
    "## Graph methods\n"
   ]
  }
 ],
 "metadata": {
  "language_info": {
   "name": "python"
  }
 },
 "nbformat": 4,
 "nbformat_minor": 5
}
