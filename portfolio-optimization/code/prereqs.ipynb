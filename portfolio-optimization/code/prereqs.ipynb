{
 "cells": [
  {
   "cell_type": "markdown",
   "id": "aa0d9dd6",
   "metadata": {},
   "source": [
    "# Algorithms for convex optimization and pareto frontiers"
   ]
  }
 ],
 "metadata": {
  "language_info": {
   "name": "python"
  }
 },
 "nbformat": 4,
 "nbformat_minor": 5
}
