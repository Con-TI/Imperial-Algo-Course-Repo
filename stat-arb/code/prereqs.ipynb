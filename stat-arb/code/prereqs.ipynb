{
 "cells": [
  {
   "cell_type": "markdown",
   "id": "08d2a9b8",
   "metadata": {},
   "source": [
    "# Regression models from scratch"
   ]
  },
  {
   "cell_type": "markdown",
   "id": "9c3ce81e",
   "metadata": {},
   "source": [
    "# PCA and ICA from scratch"
   ]
  },
  {
   "cell_type": "markdown",
   "id": "6da17875",
   "metadata": {},
   "source": [
    "# Statistical tests\n",
    "### Stationarity\n",
    "### Cointegration"
   ]
  }
 ],
 "metadata": {
  "language_info": {
   "name": "python"
  }
 },
 "nbformat": 4,
 "nbformat_minor": 5
}
