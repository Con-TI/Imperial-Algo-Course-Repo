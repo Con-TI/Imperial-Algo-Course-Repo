{
 "cells": [
  {
   "cell_type": "markdown",
   "id": "8c456579",
   "metadata": {},
   "source": [
    "This notebook contains some examples of \"statistical arbitrages\" of theoretical markets on arbitrary random variables."
   ]
  },
  {
   "cell_type": "markdown",
   "id": "045246aa",
   "metadata": {},
   "source": [
    "# Options problems\n",
    "### General ideas\n",
    "Definition of an arbitrage and arbitrage free pricing\n",
    "\n",
    "Reasonable spreads:\n",
    "\n",
    "Information from filled trades (prior/posterior)\n",
    "\n",
    "Bounded and unbounded payoffs\n",
    "\n",
    "\n",
    "### Options on $Z\\sim N(0,1)$\n",
    "Example 1: Basic\n",
    "Let $Y_1 = \\mathbb{1}_{|Z|\\leq 1}$ and $Y_2 = Z^2$\n",
    "\n",
    "1. Basic solution for fair price:\n",
    "Under assumption $Z\\sim N(0,1)$ we have expected values:\n",
    "\n",
    "So we can make a bid-ask with spread based on ...\n",
    "\n",
    "2. Changes in information from buys/sells\n",
    "- How do buys/sells in one option affect your fair value and spread of the other?\n",
    "- How do buys/sells of the options affect your confidence in the assumption $Z\\sim N(0,1)$ (consider what other parameters or even distributions it could be following)? \n",
    "\n",
    "4. Correlation between the two options\n",
    "\n",
    "5. Conditions of arbitrage:\n",
    "- Lets say you sell $Y_1$ for $A$ and $Y_2$ for $B$. What conditions do you need for (pure) arbitrage?\n",
    "- Lets say you buy $Y_1$ for $A$ and $Y_2$ for $B$. What conditions do you need for (pure) arbitrage?\n",
    "- Lets say you buy $Y_1$ for $A$ and sell $Y_2$ for $B$. What conditions do you need for (pure) arbitrage?\n",
    "- Lets say you sell $Y_1$ for $A$ and buy $Y_2$ for $B$. What conditions do you need for (pure) arbitrage?\n",
    "- Determine conditions and strategies for arbitrages based on the option greeks delta, gamma and vega.\n",
    "\n",
    "Example 2: Call-like payoff\n",
    "Let $Y_1 = Z^3$ and $Y_2 = max(Z,0)$\n",
    "\n",
    "1. Basic solution for fair price:\n",
    "2. Changes in information from buys/sells\n",
    "4. Correlation between the two options\n",
    "5. Conditions of arbitrage:\n",
    "\n",
    "Example 3: Multiple options\n",
    "Let $Y_1 = \\mathbb{1}_{|Z|\\leq 1}$ and $Y_2 = Z^2$ and $Y_3 = max(Z-1,0)$\n",
    "\n",
    "\n",
    "Example 4: Multiple underlyings\n",
    "Let $Y_1 = Z_1 + Z_2$ and $Y_2 = Z_1^2$ where $(Z_1,Z_2) \\sim N(0,\\Sigma)$ and $\\Sigma = [[1,\\rho],[\\rho,1]]$.\n",
    "\n",
    "Example 5: Multiple underlyings\n",
    "Let $Y_1 = \\mathbb{1}_{Z_1>1}$ and $Y_2 = \\mathbb{1}_{Z_2>1}$ where $(Z_1,Z_2) \\sim N(0,\\Sigma)$ and $\\Sigma = [[1,\\rho],[\\rho,1]]$.\n"
   ]
  }
 ],
 "metadata": {
  "language_info": {
   "name": "python"
  }
 },
 "nbformat": 4,
 "nbformat_minor": 5
}
