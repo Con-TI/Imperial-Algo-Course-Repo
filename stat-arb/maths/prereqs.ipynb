{
 "cells": [
  {
   "cell_type": "markdown",
   "id": "bbc701e5",
   "metadata": {},
   "source": [
    "# Matrix calculus"
   ]
  },
  {
   "cell_type": "markdown",
   "id": "2b540901",
   "metadata": {},
   "source": [
    "# Linear Regression\n",
    "\n",
    "### Univarate regression\n",
    "\n",
    "### Multivariate regression (Matrix form)\n",
    "\n",
    "### Some theorems\n",
    "\n",
    "### Collinearity/Multicollinearity\n",
    "\n",
    "### L1 penalty\n",
    "\n",
    "### L2 penalty\n",
    "\n",
    "### Other penalties"
   ]
  },
  {
   "cell_type": "markdown",
   "id": "48422f6e",
   "metadata": {},
   "source": [
    "# Nonlinear regression\n",
    "###\n",
    "\n",
    "###\n",
    "\n",
    "### BFGS Algorithm\n"
   ]
  },
  {
   "cell_type": "markdown",
   "id": "b12b6043",
   "metadata": {},
   "source": [
    "# Time series\n",
    "\n",
    "### Stationarity\n",
    "\n",
    "\n",
    "### Cointegrated processes"
   ]
  },
  {
   "cell_type": "markdown",
   "id": "4766ae45",
   "metadata": {},
   "source": [
    "# Statistical Arbitrage via pairs trading [[src](https://papers.ssrn.com/sol3/papers.cfm?abstract_id=141615)]\n"
   ]
  },
  {
   "cell_type": "markdown",
   "id": "6a07607f",
   "metadata": {},
   "source": [
    "# Statistical Arbitrage using factors: PCA [[src](https://papers.ssrn.com/sol3/papers.cfm?abstract_id=1153505)]\n"
   ]
  },
  {
   "cell_type": "markdown",
   "id": "6eaa51a2",
   "metadata": {},
   "source": [
    "# Extensions:\n",
    "### Stat arb using ICA\n",
    "### Risk control in stat arb\n",
    "### Multiasset stat arb framework\n",
    "### Stochastic control approaches to stat arb\n",
    "### Stat arb with Deep ML\n",
    "### The factor zoo"
   ]
  }
 ],
 "metadata": {
  "language_info": {
   "name": "python"
  }
 },
 "nbformat": 4,
 "nbformat_minor": 5
}
