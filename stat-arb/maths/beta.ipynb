{
 "cells": [
  {
   "cell_type": "markdown",
   "id": "39fc3ea1",
   "metadata": {},
   "source": [
    "# Primer on Beta"
   ]
  },
  {
   "cell_type": "markdown",
   "id": "51349d3c",
   "metadata": {},
   "source": [
    "# Stat arb with beta"
   ]
  }
 ],
 "metadata": {
  "language_info": {
   "name": "python"
  }
 },
 "nbformat": 4,
 "nbformat_minor": 5
}
